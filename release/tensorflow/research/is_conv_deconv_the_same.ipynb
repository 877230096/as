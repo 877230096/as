{
 "cells": [
  {
   "cell_type": "markdown",
   "metadata": {},
   "source": [
    "## [Is the deconvolution layer the same as a convolutional layer](https://arxiv.org/pdf/1609.07009.pdf)\n",
    "\n"
   ]
  },
  {
   "cell_type": "code",
   "execution_count": null,
   "metadata": {},
   "outputs": [],
   "source": [
    "import pandas as pd\n",
    "from IPython.display import display, HTML\n",
    "import matplotlib.pyplot as plt\n",
    "import numpy as np\n",
    "\n",
    "import sys\n",
    "sys.path.append('C:/Anaconda3/envs/tensorflow/Lib/site-packages')\n",
    "import tensorflow as tf\n",
    "\n",
    "%matplotlib inline"
   ]
  },
  {
   "cell_type": "markdown",
   "metadata": {},
   "source": [
    "* [pretty table show](https://matplotlib.org/gallery/images_contours_and_fields/image_annotated_heatmap.html#sphx-glr-gallery-images-contours-and-fields-image-annotated-heatmap-py)"
   ]
  },
  {
   "cell_type": "code",
   "execution_count": null,
   "metadata": {},
   "outputs": [],
   "source": [
    "def show(mts):\n",
    "    if(type(mts) != list):\n",
    "        mts = [mts]\n",
    "\n",
    "    for i, mt in enumerate(mts):\n",
    "        X = mt.shape[0]\n",
    "        Y = mt.shape[1]\n",
    "        fig, ax = plt.subplots(figsize=(Y, X))        \n",
    "        im = ax.imshow(mt)\n",
    "\n",
    "        # We want to show all ticks...\n",
    "        ax.set_xticks(np.arange(Y))\n",
    "        ax.set_yticks(np.arange(X))\n",
    "        # ... and label them with the respective list entries\n",
    "        ax.set_xticklabels([y for y in range(Y)])\n",
    "        ax.set_yticklabels([x for x in range(X)])\n",
    "\n",
    "        # Rotate the tick labels and set their alignment.\n",
    "        plt.setp(ax.get_xticklabels(), rotation=45, ha=\"right\",\n",
    "                 rotation_mode=\"anchor\")\n",
    "\n",
    "        # Loop over data dimensions and create text annotations.\n",
    "        for x in range(X):\n",
    "            for y in range(Y):\n",
    "                text = ax.text(y, x, mt[x, y], fontweight='bold',fontsize='x-large',\n",
    "                               ha=\"center\", va=\"center\", color=\"w\")\n",
    "\n",
    "        ax.set_title('matrix%d'%(i))\n",
    "        fig.tight_layout()\n",
    "    plt.show()\n",
    "\n",
    "def expand(mt, stride):\n",
    "    X = mt.shape[0]\n",
    "    Y = mt.shape[1]\n",
    "    ret = np.zeros((X*stride,Y*stride))\n",
    "    for x in range(X):\n",
    "        for y in range(Y):\n",
    "            ret[x*stride, y*stride] = mt[x,y]\n",
    "    return ret\n",
    "\n",
    "def conv2d(data, kernel):\n",
    "    data = data.astype(np.float64)\n",
    "    kernel = kernel.astype(np.float64)\n",
    "    data = data.reshape(1, data.shape[0], data.shape[1], 1)\n",
    "    kernel = kernel.reshape(kernel.shape[0], kernel.shape[1], 1, 1)\n",
    "    input = tf.Variable(data)\n",
    "    filter = tf.Variable(kernel)\n",
    "\n",
    "    result = None\n",
    "\n",
    "    op = tf.nn.conv2d(input, filter, strides=[1, 1, 1, 1], padding='SAME')\n",
    "    init = tf.global_variables_initializer()\n",
    "    with tf.Session() as sess:\n",
    "        sess.run(init)\n",
    "\n",
    "        result = sess.run(op)\n",
    "    return result\n",
    "\n",
    "def deconv2d(data, kernel, stride):\n",
    "    data = data.astype(np.float64)\n",
    "    kernel = kernel.astype(np.float64)\n",
    "    data = data.reshape(1, data.shape[0], data.shape[1], 1)\n",
    "    kernel = kernel.reshape(kernel.shape[0], kernel.shape[1], 1, 1)\n",
    "    input = tf.Variable(data)\n",
    "    filter = tf.Variable(kernel)\n",
    "    \n",
    "    output_shape = [1, (data.shape[0]+1)*stride, (data.shape[1]+1)*stride, 1]\n",
    "\n",
    "    result = None\n",
    "\n",
    "    op = tf.nn.conv2d_transpose(input, filter, \n",
    "                                output_shape=output_shape,\n",
    "                                strides=[1, stride, stride, 1], padding='VALID')\n",
    "    init = tf.global_variables_initializer()\n",
    "    with tf.Session() as sess:\n",
    "        sess.run(init)\n",
    "\n",
    "        result = op.eval(session=sess)\n",
    "    return result\n",
    "\n",
    "def split(kernel, stride):\n",
    "    X = kernel.shape[0]\n",
    "    Y = kernel.shape[1]\n",
    "    X0 = int(X/stride)\n",
    "    Y0 = int(Y/stride)\n",
    "    kernels = []\n",
    "    for s in range(stride*stride):\n",
    "        k = np.zeros((X0,Y0))\n",
    "        for x in range(X0):\n",
    "            for y in  range(Y0):\n",
    "                x0 = int(s/stride) + x*stride \n",
    "                y0 = int(s%stride) + y*stride \n",
    "                k[x,y] = kernel[x0, y0]\n",
    "        kernels.append(k)\n",
    "    return kernels\n",
    "\n",
    "def periodic_shuffle(datas, stride):\n",
    "    s = [0, 0]\n",
    "    datas.reverse()\n",
    "    X = datas[0].shape[0]\n",
    "    Y = datas[0].shape[1]\n",
    "    ret = np.zeros((X*stride,Y*stride))\n",
    "    for x in range(X):\n",
    "        for y in range(Y):\n",
    "            for x0 in range(stride):\n",
    "                for y0 in range(stride):\n",
    "                    ret[x*stride+x0,y*stride+y0] = datas[x0*stride+y0][x,y]\n",
    "    return ret "
   ]
  },
  {
   "cell_type": "code",
   "execution_count": null,
   "metadata": {},
   "outputs": [],
   "source": [
    "D=4\n",
    "data = np.random.randint(1,10,size=(D,D))\n",
    "#data1 = np.pad(data,[0,1],mode='constant')\n",
    "show(data)"
   ]
  },
  {
   "cell_type": "code",
   "execution_count": null,
   "metadata": {},
   "outputs": [],
   "source": [
    "S=2\n",
    "data2 = expand(data, S)\n",
    "#data2 = np.pad(data2,[0,1],mode='constant')\n",
    "show(data2)"
   ]
  },
  {
   "cell_type": "code",
   "execution_count": null,
   "metadata": {},
   "outputs": [],
   "source": [
    "K=4\n",
    "kernel = np.random.randint(1,10,size=(K,K))\n",
    "show(kernel)"
   ]
  },
  {
   "cell_type": "code",
   "execution_count": null,
   "metadata": {},
   "outputs": [],
   "source": [
    "kernels = split(kernel,S)\n",
    "show(kernels)"
   ]
  },
  {
   "cell_type": "code",
   "execution_count": null,
   "metadata": {
    "scrolled": true
   },
   "outputs": [],
   "source": [
    "result = conv2d(data2, kernel)\n",
    "result = result.reshape(D*S,D*S)\n",
    "show(result)\n"
   ]
  },
  {
   "cell_type": "code",
   "execution_count": null,
   "metadata": {},
   "outputs": [],
   "source": [
    "#result2 = deconv2d(data, kernel, S)\n",
    "#result2 = result2.reshape(D*S,D*S)\n",
    "#show(result2)"
   ]
  },
  {
   "cell_type": "code",
   "execution_count": null,
   "metadata": {},
   "outputs": [],
   "source": [
    "results = []\n",
    "for k in kernels:\n",
    "    result = conv2d(data, k)\n",
    "    result = result.reshape(D,D)\n",
    "    results.append(result)\n",
    "show(results)"
   ]
  },
  {
   "cell_type": "code",
   "execution_count": null,
   "metadata": {},
   "outputs": [],
   "source": [
    "result = periodic_shuffle(results, S)\n",
    "show(result)"
   ]
  }
 ],
 "metadata": {
  "kernelspec": {
   "display_name": "Python 3",
   "language": "python",
   "name": "python3"
  },
  "language_info": {
   "codemirror_mode": {
    "name": "ipython",
    "version": 3
   },
   "file_extension": ".py",
   "mimetype": "text/x-python",
   "name": "python",
   "nbconvert_exporter": "python",
   "pygments_lexer": "ipython3",
   "version": "3.6.4"
  }
 },
 "nbformat": 4,
 "nbformat_minor": 2
}
