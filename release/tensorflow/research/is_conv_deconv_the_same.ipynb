{
 "cells": [
  {
   "cell_type": "markdown",
   "metadata": {},
   "source": [
    "## [Is the deconvolution layer the same as a convolutional layer](https://arxiv.org/pdf/1609.07009.pdf)\n",
    "\n"
   ]
  },
  {
   "cell_type": "code",
   "execution_count": null,
   "metadata": {},
   "outputs": [],
   "source": [
    "import pandas as pd\n",
    "from IPython.display import display, HTML\n",
    "import matplotlib.pyplot as plt\n",
    "import numpy as np\n",
    "\n",
    "import sys\n",
    "sys.path.append('C:/Anaconda3/envs/tensorflow/Lib/site-packages')\n",
    "import tensorflow as tf\n",
    "\n",
    "%matplotlib inline"
   ]
  },
  {
   "cell_type": "markdown",
   "metadata": {},
   "source": [
    "* [pretty table show](https://matplotlib.org/gallery/images_contours_and_fields/image_annotated_heatmap.html#sphx-glr-gallery-images-contours-and-fields-image-annotated-heatmap-py)"
   ]
  },
  {
   "cell_type": "code",
   "execution_count": null,
   "metadata": {},
   "outputs": [],
   "source": [
    "def show(mts):\n",
    "    \n",
    "    if(mts is None):\n",
    "        print('>>> nothing to show  <<<')\n",
    "    if(type(mts) != list):\n",
    "        mts = [mts]\n",
    "\n",
    "    for i, mt in enumerate(mts):\n",
    "        X = mt.shape[0]\n",
    "        Y = mt.shape[1]\n",
    "        fig, ax = plt.subplots(figsize=(Y, X))        \n",
    "        im = ax.imshow(mt)\n",
    "\n",
    "        # We want to show all ticks...\n",
    "        ax.set_xticks(np.arange(Y))\n",
    "        ax.set_yticks(np.arange(X))\n",
    "        # ... and label them with the respective list entries\n",
    "        ax.set_xticklabels([y for y in range(Y)])\n",
    "        ax.set_yticklabels([x for x in range(X)])\n",
    "\n",
    "        # Rotate the tick labels and set their alignment.\n",
    "        plt.setp(ax.get_xticklabels(), rotation=45, ha=\"right\",\n",
    "                 rotation_mode=\"anchor\")\n",
    "\n",
    "        # Loop over data dimensions and create text annotations.\n",
    "        for x in range(X):\n",
    "            for y in range(Y):\n",
    "                text = ax.text(y, x, mt[x, y], fontweight='bold',fontsize='x-large',\n",
    "                               ha=\"center\", va=\"center\", color=\"w\")\n",
    "\n",
    "        ax.set_title('matrix%d'%(i))\n",
    "        fig.tight_layout()\n",
    "    plt.show()\n",
    "\n",
    "def expand(mt, stride):\n",
    "    X = mt.shape[0]\n",
    "    Y = mt.shape[1]\n",
    "    strideX = stride[0]\n",
    "    strideY = stride[1]\n",
    "    ret = np.zeros((X*strideX,Y*strideY))\n",
    "    for x in range(X):\n",
    "        for y in range(Y):\n",
    "            ret[x*strideX, y*strideY] = mt[x,y]\n",
    "    return ret\n",
    "\n",
    "def conv2d(data, kernel):\n",
    "    data = data.astype(np.float64)\n",
    "    kernel = kernel.astype(np.float64)\n",
    "    data = data.reshape(1, data.shape[0], data.shape[1], 1)\n",
    "    kernel = kernel.reshape(kernel.shape[0], kernel.shape[1], 1, 1)\n",
    "    input = tf.Variable(data)\n",
    "    filter = tf.Variable(kernel)\n",
    "\n",
    "    result = None\n",
    "\n",
    "    op = tf.nn.conv2d(input, filter, strides=[1, 1, 1, 1], padding='SAME')\n",
    "    init = tf.global_variables_initializer()\n",
    "    with tf.Session() as sess:\n",
    "        sess.run(init)\n",
    "\n",
    "        result = sess.run(op)\n",
    "    return result\n",
    "\n",
    "def deconv2d(data, kernel, stride):\n",
    "    strideX = stride[0]\n",
    "    strideY = stride[1]\n",
    "    data = data.astype(np.float64)\n",
    "    kernel = kernel.astype(np.float64)\n",
    "    data = data.reshape(1, data.shape[0], data.shape[1], 1)\n",
    "    kernel = kernel.reshape(kernel.shape[0], kernel.shape[1], 1, 1)\n",
    "    input = tf.Variable(data)\n",
    "    filter = tf.Variable(kernel)\n",
    "    \n",
    "    input_shape = input.get_shape().as_list()\n",
    "    filter_shape = filter.get_shape().as_list()\n",
    "    \n",
    "    output_shape = [input_shape[0], input_shape[1]*strideX, input_shape[2]*strideY, filter_shape[2]]\n",
    "\n",
    "    result = None\n",
    "\n",
    "    op = tf.nn.conv2d_transpose(input, filter, \n",
    "                                output_shape=output_shape,\n",
    "                                strides=[1, strideX, strideY, 1], padding='SAME')\n",
    "    init = tf.global_variables_initializer()\n",
    "    with tf.Session() as sess:\n",
    "        sess.run(init)\n",
    "\n",
    "        result = op.eval(session=sess)\n",
    "    return result\n",
    "\n",
    "def split(kernel, stride):\n",
    "    X = kernel.shape[0]\n",
    "    Y = kernel.shape[1]\n",
    "    strideX = stride[0]\n",
    "    strideY = stride[1]\n",
    "    X0 = int(X/strideX)\n",
    "    Y0 = int(Y/strideY)\n",
    "    kernels = []\n",
    "    for s in range(strideX*strideY):\n",
    "        k = np.zeros((X0,Y0))\n",
    "        kernels.append(k)\n",
    "    for x in range(strideX):\n",
    "        for y in range(strideY):\n",
    "            for x0 in range(X0):\n",
    "                for y0 in range(Y0):\n",
    "                    kernels[x*strideY+y][x0,y0] = kernel[x0*strideX+x, y0*strideY+y]\n",
    "    return kernels\n",
    "\n",
    "def concat(datas):\n",
    "    R = []\n",
    "    for d in datas:\n",
    "        d = d.reshape(1,d.shape[0],d.shape[1],1)\n",
    "        R.append(d)\n",
    "    R.reverse()\n",
    "    op = tf.concat(R,3)\n",
    "    init = tf.global_variables_initializer()\n",
    "    with tf.Session() as sess:\n",
    "        sess.run(init)\n",
    "        result = op.eval(session=sess)\n",
    "    return result\n",
    "\n",
    "def depth_to_space(data, block_size):\n",
    "    op = tf.depth_to_space(data,block_size)\n",
    "    init = tf.global_variables_initializer()\n",
    "    with tf.Session() as sess:\n",
    "        sess.run(init)\n",
    "        result = op.eval(session=sess)\n",
    "    return result\n",
    "\n",
    "def periodic_shuffle1(datas, stride):\n",
    "    ret = concat(datas)\n",
    "    ret = depth_to_space(ret, stride[0])\n",
    "    return ret\n",
    "\n",
    "def periodic_shuffle2(datas, stride):\n",
    "    strideX = stride[0]\n",
    "    strideY = stride[1]\n",
    "    datas.reverse()\n",
    "    X = datas[0].shape[0]\n",
    "    Y = datas[0].shape[1]\n",
    "    ret = np.zeros((X*strideX,Y*strideY))\n",
    "    for x in range(strideX):\n",
    "        for y in range(strideY):\n",
    "            for x0 in range(X):\n",
    "                for y0 in range(Y):\n",
    "                    ret[x0*strideX+x, y0*strideY+y] = datas[x*strideY+y][x0,y0]\n",
    "    return ret\n",
    "\n",
    "def contains(A,a):\n",
    "    x=-1\n",
    "    y=-1\n",
    "    l = a[0]\n",
    "    for x0,L in enumerate(A):\n",
    "        for y0 in range(len(L)-len(l)):\n",
    "            r = np.isclose(l, L[y0:y0+len(l)])\n",
    "            if((np.max(r)==True) and (np.min(r)==True)):\n",
    "                y = y0\n",
    "                x = x0\n",
    "                aA = A[x:x+a.shape[0],y:y+a.shape[1]]\n",
    "                r = np.isclose(aA, a)\n",
    "                if((np.max(r)==True) and (np.min(r)==True)):\n",
    "                    return aA\n",
    "                else:\n",
    "                    continue\n",
    "    return None"
   ]
  },
  {
   "cell_type": "code",
   "execution_count": null,
   "metadata": {},
   "outputs": [],
   "source": [
    "# configuration\n",
    "# input data shape\n",
    "D = (4,4)\n",
    "# stride \n",
    "S = (3,3)\n",
    "# kernel shape\n",
    "K = (3,4)"
   ]
  },
  {
   "cell_type": "code",
   "execution_count": null,
   "metadata": {},
   "outputs": [],
   "source": [
    "# calculation pad\n",
    "Kmax = max(K)\n",
    "Smax = max(S)\n",
    "if(((Kmax/Smax) > 1) and (int(Kmax/Smax) == (Kmax/Smax))):\n",
    "    padK = ((0,0),(0,0))\n",
    "else:\n",
    "    Kmax = int(round(Kmax/Smax+0.5)*Smax)\n",
    "    padK = ((0,Kmax-K[0]),(0,Kmax-K[1]))"
   ]
  },
  {
   "cell_type": "code",
   "execution_count": null,
   "metadata": {},
   "outputs": [],
   "source": [
    "data = np.random.randint(1,10,size=D)\n",
    "show(data)"
   ]
  },
  {
   "cell_type": "code",
   "execution_count": null,
   "metadata": {},
   "outputs": [],
   "source": [
    "data2 = expand(data, S)\n",
    "show(data2)"
   ]
  },
  {
   "cell_type": "code",
   "execution_count": null,
   "metadata": {},
   "outputs": [],
   "source": [
    "kernel = np.random.randint(1,10,size=K)\n",
    "kernelPad = np.pad(kernel,padK,mode='constant')\n",
    "show(kernelPad)"
   ]
  },
  {
   "cell_type": "code",
   "execution_count": null,
   "metadata": {
    "scrolled": false
   },
   "outputs": [],
   "source": [
    "kernels = split(kernelPad,S)\n",
    "show(kernels)"
   ]
  },
  {
   "cell_type": "code",
   "execution_count": null,
   "metadata": {
    "scrolled": false
   },
   "outputs": [],
   "source": [
    "#result = conv2d(data2, kernel)\n",
    "result = conv2d(data2, kernelPad)\n",
    "result0 = result.reshape(result.shape[1], result.shape[2])\n",
    "show(result0)"
   ]
  },
  {
   "cell_type": "code",
   "execution_count": null,
   "metadata": {
    "scrolled": false
   },
   "outputs": [],
   "source": [
    "kernel22 = np.rot90(kernel,2)\n",
    "data22 = np.pad(data, [0,int(S[1]/2)], mode='constant')\n",
    "result2 = deconv2d(data22, kernel22, S)\n",
    "result2 = result2.reshape(result2.shape[1], result2.shape[2])\n",
    "                \n",
    "result3 = contains(result2,result0)\n",
    "if(result3 is None):\n",
    "    print('deconv2d result is not matched with tf deconv2d')\n",
    "    show(result2)\n",
    "else:\n",
    "    print('deconv2d result is matched with tf deconv2d, somehow!')\n",
    "    show(result3)"
   ]
  },
  {
   "cell_type": "code",
   "execution_count": null,
   "metadata": {
    "scrolled": false
   },
   "outputs": [],
   "source": [
    "results = []\n",
    "for k in kernels:\n",
    "    result = conv2d(data, k)\n",
    "    result = result.reshape(result.shape[1], result.shape[2])\n",
    "    results.append(result)\n",
    "show(results)"
   ]
  },
  {
   "cell_type": "code",
   "execution_count": null,
   "metadata": {
    "scrolled": false
   },
   "outputs": [],
   "source": [
    "#result1 = periodic_shuffle2(results, S)\n",
    "result1 = periodic_shuffle1(results, S)\n",
    "result1 = result1.reshape(result1.shape[1], result1.shape[2])\n",
    "show(result1)"
   ]
  },
  {
   "cell_type": "code",
   "execution_count": null,
   "metadata": {},
   "outputs": [],
   "source": [
    "r = np.isclose(result0, result1)\n",
    "if((np.max(r)==True) and (np.min(r)==True)):\n",
    "    print('convolution and deconvolution is the same')\n",
    "else:\n",
    "    print('convolution and deconvolution is not the same')"
   ]
  },
  {
   "cell_type": "code",
   "execution_count": null,
   "metadata": {},
   "outputs": [],
   "source": []
  }
 ],
 "metadata": {
  "kernelspec": {
   "display_name": "Python 3",
   "language": "python",
   "name": "python3"
  },
  "language_info": {
   "codemirror_mode": {
    "name": "ipython",
    "version": 3
   },
   "file_extension": ".py",
   "mimetype": "text/x-python",
   "name": "python",
   "nbconvert_exporter": "python",
   "pygments_lexer": "ipython3",
   "version": "3.6.4"
  }
 },
 "nbformat": 4,
 "nbformat_minor": 2
}
